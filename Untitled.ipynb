{
 "cells": [
  {
   "cell_type": "code",
   "execution_count": 1,
   "metadata": {},
   "outputs": [
    {
     "data": {
      "text/plain": [
       "3"
      ]
     },
     "execution_count": 1,
     "metadata": {},
     "output_type": "execute_result"
    }
   ],
   "source": [
    "# Import random below:\n",
    "import random\n",
    "\n",
    "# Create random_list below:\n",
    "random_list=[]\n",
    "\n",
    "# Create randomer_number below:\n",
    "random_list=[random.randint(1,100) for i in range(101)]\n",
    "\n",
    "# Print randomer_number below:\n",
    "randomer_number=random.choice(random_list)\n",
    "\n",
    "numbers_b=random.sample(range(1000),12)\n",
    "\n",
    "from datetime import datetime\n",
    "\n",
    "birthday=datetime(1974,10,17,21,0,0)\n",
    "birthday.weekday()\n",
    "#0 is monday so 3 is thursday!"
   ]
  },
  {
   "cell_type": "code",
   "execution_count": 3,
   "metadata": {},
   "outputs": [
    {
     "data": {
      "text/plain": [
       "datetime.timedelta(days=17192, seconds=53259, microseconds=442755)"
      ]
     },
     "execution_count": 3,
     "metadata": {},
     "output_type": "execute_result"
    }
   ],
   "source": [
    "datetime.now()-birthday"
   ]
  },
  {
   "cell_type": "code",
   "execution_count": null,
   "metadata": {},
   "outputs": [],
   "source": []
  }
 ],
 "metadata": {
  "kernelspec": {
   "display_name": "Python 3",
   "language": "python",
   "name": "python3"
  },
  "language_info": {
   "codemirror_mode": {
    "name": "ipython",
    "version": 3
   },
   "file_extension": ".py",
   "mimetype": "text/x-python",
   "name": "python",
   "nbconvert_exporter": "python",
   "pygments_lexer": "ipython3",
   "version": "3.8.5"
  }
 },
 "nbformat": 4,
 "nbformat_minor": 4
}
