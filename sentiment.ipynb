{
 "cells": [
  {
   "cell_type": "markdown",
   "metadata": {},
   "source": [
    "Textblob is a python library for performing common NLP (Natural Language Processing) tasks, including sentiment analysis. Within it's sentiment property it returns polarity which is a number between -1, implying most negative,\n",
    "to +1 (most positive) sentiment, and a subjectivity score from 0 (fully objective) to 1 (fully subjective). Lets try it out.\n",
    "\n",
    "\n"
   ]
  },
  {
   "cell_type": "code",
   "execution_count": 1,
   "metadata": {},
   "outputs": [
    {
     "name": "stdout",
     "output_type": "stream",
     "text": [
      "Sentiment(polarity=0.7, subjectivity=0.6000000000000001)\n"
     ]
    }
   ],
   "source": [
    "from textblob import TextBlob\n",
    "\n",
    "test_sentence='I have had a good day'\n",
    "blob_test_sentence=TextBlob(test_sentence)\n",
    "print(blob_test_sentence.sentiment)\n"
   ]
  },
  {
   "cell_type": "code",
   "execution_count": 2,
   "metadata": {},
   "outputs": [
    {
     "name": "stdout",
     "output_type": "stream",
     "text": [
      "Sentiment(polarity=-1.0, subjectivity=1.0)\n"
     ]
    }
   ],
   "source": [
    "test_sentence='I have had an awful day'\n",
    "blob_test_sentence=TextBlob(test_sentence)\n",
    "print(blob_test_sentence.sentiment)"
   ]
  },
  {
   "cell_type": "code",
   "execution_count": 9,
   "metadata": {},
   "outputs": [
    {
     "name": "stdout",
     "output_type": "stream",
     "text": [
      "Sentiment(polarity=0.0, subjectivity=0.0)\n"
     ]
    }
   ],
   "source": [
    "test_sentence='This is a tree'\n",
    "blob_test_sentence=TextBlob(test_sentence)\n",
    "print(blob_test_sentence.sentiment)"
   ]
  },
  {
   "cell_type": "code",
   "execution_count": 4,
   "metadata": {},
   "outputs": [
    {
     "name": "stdout",
     "output_type": "stream",
     "text": [
      "Sentiment(polarity=0.022916666666666658, subjectivity=0.5895833333333332)\n"
     ]
    }
   ],
   "source": [
    "# \n",
    "two_cities='It was the best of times, it was the worst of times,'\\\n",
    "'it was the age of wisdom, it was the age of foolishness, '\\\n",
    "'it was the epoch of belief, it was the epoch of incredulity, '\\\n",
    "'it was the season of Light, it was the season of Darkness, '\\\n",
    "'it was the spring of hope, it was the winter of despair, '\\\n",
    "'we had everything before us, we had nothing before us,'\\\n",
    "'we were all going direct to Heaven, we were all going direct the other way '\\\n",
    "'– in short, the period was so far like the present period, '\\\n",
    "'that some of its noisiest authorities insisted on its being received,'\\\n",
    "'for good or for evil, in the superlative degree of comparison only.'\n",
    "\n",
    "blob_two_cities=TextBlob(two_cities)\n",
    "print(blob_two_cities.sentiment)\n"
   ]
  },
  {
   "cell_type": "code",
   "execution_count": 10,
   "metadata": {},
   "outputs": [
    {
     "data": {
      "text/plain": [
       "{'neg': 0.111, 'neu': 0.751, 'pos': 0.138, 'compound': 0.5965}"
      ]
     },
     "execution_count": 10,
     "metadata": {},
     "output_type": "execute_result"
    }
   ],
   "source": [
    "from vaderSentiment.vaderSentiment import SentimentIntensityAnalyzer\n",
    "\n",
    "analyzer=SentimentIntensityAnalyzer()\n",
    "\n",
    "analyzer.polarity_scores(two_cities)"
   ]
  },
  {
   "cell_type": "markdown",
   "metadata": {},
   "source": [
    "compound is the normalized (between -1 and +1) weighted composite score computed by adding the valence scores of each word in the lexicon. valence is a score representing the intrinsic emotional alignment of a word. "
   ]
  }
 ],
 "metadata": {
  "kernelspec": {
   "display_name": "Python 3",
   "language": "python",
   "name": "python3"
  },
  "language_info": {
   "codemirror_mode": {
    "name": "ipython",
    "version": 3
   },
   "file_extension": ".py",
   "mimetype": "text/x-python",
   "name": "python",
   "nbconvert_exporter": "python",
   "pygments_lexer": "ipython3",
   "version": "3.8.5"
  }
 },
 "nbformat": 4,
 "nbformat_minor": 4
}
